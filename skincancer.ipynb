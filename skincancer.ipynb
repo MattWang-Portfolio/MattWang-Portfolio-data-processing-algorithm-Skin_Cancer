{
  "nbformat": 4,
  "nbformat_minor": 0,
  "metadata": {
    "colab": {
      "provenance": [],
      "authorship_tag": "ABX9TyOXeG97Vuvou8BtHRcbLsWH",
      "include_colab_link": true
    },
    "kernelspec": {
      "name": "python3",
      "display_name": "Python 3"
    },
    "language_info": {
      "name": "python"
    }
  },
  "cells": [
    {
      "cell_type": "markdown",
      "metadata": {
        "id": "view-in-github",
        "colab_type": "text"
      },
      "source": [
        "<a href=\"https://colab.research.google.com/github/MattWang-Portfolio/MattWang-Portfolio-data-processing-algorithm-Skin_Cancer/blob/main/skincancer.ipynb\" target=\"_parent\"><img src=\"https://colab.research.google.com/assets/colab-badge.svg\" alt=\"Open In Colab\"/></a>"
      ]
    },
    {
      "cell_type": "markdown",
      "source": [
        "Skin Cancer MNIST: HAM10000 https://www.kaggle.com/kmader/skin-cancer-mnist-ham10000\n",
        "\n"
      ],
      "metadata": {
        "id": "-_bsc6rFtcLn"
      }
    },
    {
      "cell_type": "code",
      "execution_count": 2,
      "metadata": {
        "id": "ui5dskdQpxQQ"
      },
      "outputs": [],
      "source": [
        "#keras.utils: 做one-hot encoding用\n",
        "#sklearn.model_selection: 分割訓練集和測試集\n",
        "#os: 用來建立檔案、刪除檔案\n",
        "#PIL: (圖像處理庫)匯入圖像\n",
        "#seed: 設定種子，使每次隨機產生的資料有相同結果。可將數字改成自己的學號(或其他數字)\n",
        "import numpy as np\n",
        "import pandas as pd\n",
        "from keras.utils import np_utils\n",
        "from sklearn.model_selection import train_test_split\n",
        "import os\n",
        "from PIL import Image\n",
        "np.random.seed(409570391)"
      ]
    },
    {
      "cell_type": "code",
      "source": [
        "#7項皮膚疾病簡稱與全名\n",
        "lesion_type_dict = {\n",
        "    'nv': 'Melanocytic nevi',\n",
        "    'mel': 'Melanoma',\n",
        "    'bkl': 'Benign keratosis-like lesions ',\n",
        "    'bcc': 'Basal cell carcinoma',\n",
        "    'akiec': 'Actinic keratoses',\n",
        "    'vasc': 'Vascular lesions',\n",
        "    'df': 'Dermatofibroma'\n",
        "}\n"
      ],
      "metadata": {
        "id": "XqPnjAxIqV0h"
      },
      "execution_count": 3,
      "outputs": []
    },
    {
      "cell_type": "code",
      "source": [
        "pd.Categorical(lesion_type_dict).codes\n"
      ],
      "metadata": {
        "id": "Go1YPh1eqYyi",
        "colab": {
          "base_uri": "https://localhost:8080/"
        },
        "outputId": "b6895799-4809-4cab-fba9-81082172edb1"
      },
      "execution_count": 4,
      "outputs": [
        {
          "output_type": "execute_result",
          "data": {
            "text/plain": [
              "array([5, 4, 2, 1, 0, 6, 3], dtype=int8)"
            ]
          },
          "metadata": {},
          "execution_count": 4
        }
      ]
    },
    {
      "cell_type": "code",
      "source": [
        "# Download from Google Drive\n",
        "!gdown --id 1orCwIp_avT4Yg9lCT8pjImwzqBg4_xiI\n",
        "!unzip project03.zip"
      ],
      "metadata": {
        "id": "chht0GOvqbC9",
        "colab": {
          "base_uri": "https://localhost:8080/"
        },
        "outputId": "71c75822-9b48-4d9a-e072-5e4338a73fe7"
      },
      "execution_count": 5,
      "outputs": [
        {
          "output_type": "stream",
          "name": "stdout",
          "text": [
            "/usr/local/lib/python3.9/dist-packages/gdown/cli.py:121: FutureWarning: Option `--id` was deprecated in version 4.3.1 and will be removed in 5.0. You don't need to pass it anymore to use a file ID.\n",
            "  warnings.warn(\n",
            "Downloading...\n",
            "From: https://drive.google.com/uc?id=1orCwIp_avT4Yg9lCT8pjImwzqBg4_xiI\n",
            "To: /content/project03.zip\n",
            "100% 26.6M/26.6M [00:00<00:00, 79.0MB/s]\n",
            "Archive:  project03.zip\n",
            "  inflating: project3_test.csv       \n",
            "  inflating: project3_train.csv      \n"
          ]
        }
      ]
    },
    {
      "cell_type": "code",
      "source": [
        "#讀取影像資料，28*28*3個像素值欄位(pixel0000-pixel2351) + 1個分類類別欄位label\n",
        "load_img = pd.read_csv('project3_train.csv')"
      ],
      "metadata": {
        "id": "gBRGH8dlqczj"
      },
      "execution_count": 6,
      "outputs": []
    },
    {
      "cell_type": "code",
      "source": [
        "load_img.head()"
      ],
      "metadata": {
        "id": "a8BudjcOqecR",
        "colab": {
          "base_uri": "https://localhost:8080/",
          "height": 299
        },
        "outputId": "198c86cf-9d10-42e2-93a1-8159ef234ca9"
      },
      "execution_count": 7,
      "outputs": [
        {
          "output_type": "execute_result",
          "data": {
            "text/plain": [
              "   pixel0000  pixel0001  pixel0002  pixel0003  pixel0004  pixel0005  \\\n",
              "0         30         15         20         35         19         27   \n",
              "1          1          0          0          7          1          5   \n",
              "2        129         91         92        182        145        145   \n",
              "3          9          8          8         11         10         10   \n",
              "4         26         13         19         25         10         17   \n",
              "\n",
              "   pixel0006  pixel0007  pixel0008  pixel0009  ...  pixel2343  pixel2344  \\\n",
              "0         94         69         73        152  ...         22          9   \n",
              "1        103         56         68        192  ...        127         72   \n",
              "2        205        169        168        189  ...         64         39   \n",
              "3         10          9          9         24  ...         11          9   \n",
              "4         24          6          5         23  ...         22          6   \n",
              "\n",
              "   pixel2345  pixel2346  pixel2347  pixel2348  pixel2349  pixel2350  \\\n",
              "0         13         11          2          4          9          1   \n",
              "1         74         24          5          6          0          1   \n",
              "2         41          5          2          6          2          2   \n",
              "3         10          8          7          7          5          5   \n",
              "4          9         27          9         10         23          5   \n",
              "\n",
              "   pixel2351  label  \n",
              "0          0      0  \n",
              "1          1      0  \n",
              "2          1      0  \n",
              "3          5      0  \n",
              "4          6      0  \n",
              "\n",
              "[5 rows x 2353 columns]"
            ],
            "text/html": [
              "\n",
              "  <div id=\"df-51d7da47-61fe-4ecf-a659-592e3a4978c1\">\n",
              "    <div class=\"colab-df-container\">\n",
              "      <div>\n",
              "<style scoped>\n",
              "    .dataframe tbody tr th:only-of-type {\n",
              "        vertical-align: middle;\n",
              "    }\n",
              "\n",
              "    .dataframe tbody tr th {\n",
              "        vertical-align: top;\n",
              "    }\n",
              "\n",
              "    .dataframe thead th {\n",
              "        text-align: right;\n",
              "    }\n",
              "</style>\n",
              "<table border=\"1\" class=\"dataframe\">\n",
              "  <thead>\n",
              "    <tr style=\"text-align: right;\">\n",
              "      <th></th>\n",
              "      <th>pixel0000</th>\n",
              "      <th>pixel0001</th>\n",
              "      <th>pixel0002</th>\n",
              "      <th>pixel0003</th>\n",
              "      <th>pixel0004</th>\n",
              "      <th>pixel0005</th>\n",
              "      <th>pixel0006</th>\n",
              "      <th>pixel0007</th>\n",
              "      <th>pixel0008</th>\n",
              "      <th>pixel0009</th>\n",
              "      <th>...</th>\n",
              "      <th>pixel2343</th>\n",
              "      <th>pixel2344</th>\n",
              "      <th>pixel2345</th>\n",
              "      <th>pixel2346</th>\n",
              "      <th>pixel2347</th>\n",
              "      <th>pixel2348</th>\n",
              "      <th>pixel2349</th>\n",
              "      <th>pixel2350</th>\n",
              "      <th>pixel2351</th>\n",
              "      <th>label</th>\n",
              "    </tr>\n",
              "  </thead>\n",
              "  <tbody>\n",
              "    <tr>\n",
              "      <th>0</th>\n",
              "      <td>30</td>\n",
              "      <td>15</td>\n",
              "      <td>20</td>\n",
              "      <td>35</td>\n",
              "      <td>19</td>\n",
              "      <td>27</td>\n",
              "      <td>94</td>\n",
              "      <td>69</td>\n",
              "      <td>73</td>\n",
              "      <td>152</td>\n",
              "      <td>...</td>\n",
              "      <td>22</td>\n",
              "      <td>9</td>\n",
              "      <td>13</td>\n",
              "      <td>11</td>\n",
              "      <td>2</td>\n",
              "      <td>4</td>\n",
              "      <td>9</td>\n",
              "      <td>1</td>\n",
              "      <td>0</td>\n",
              "      <td>0</td>\n",
              "    </tr>\n",
              "    <tr>\n",
              "      <th>1</th>\n",
              "      <td>1</td>\n",
              "      <td>0</td>\n",
              "      <td>0</td>\n",
              "      <td>7</td>\n",
              "      <td>1</td>\n",
              "      <td>5</td>\n",
              "      <td>103</td>\n",
              "      <td>56</td>\n",
              "      <td>68</td>\n",
              "      <td>192</td>\n",
              "      <td>...</td>\n",
              "      <td>127</td>\n",
              "      <td>72</td>\n",
              "      <td>74</td>\n",
              "      <td>24</td>\n",
              "      <td>5</td>\n",
              "      <td>6</td>\n",
              "      <td>0</td>\n",
              "      <td>1</td>\n",
              "      <td>1</td>\n",
              "      <td>0</td>\n",
              "    </tr>\n",
              "    <tr>\n",
              "      <th>2</th>\n",
              "      <td>129</td>\n",
              "      <td>91</td>\n",
              "      <td>92</td>\n",
              "      <td>182</td>\n",
              "      <td>145</td>\n",
              "      <td>145</td>\n",
              "      <td>205</td>\n",
              "      <td>169</td>\n",
              "      <td>168</td>\n",
              "      <td>189</td>\n",
              "      <td>...</td>\n",
              "      <td>64</td>\n",
              "      <td>39</td>\n",
              "      <td>41</td>\n",
              "      <td>5</td>\n",
              "      <td>2</td>\n",
              "      <td>6</td>\n",
              "      <td>2</td>\n",
              "      <td>2</td>\n",
              "      <td>1</td>\n",
              "      <td>0</td>\n",
              "    </tr>\n",
              "    <tr>\n",
              "      <th>3</th>\n",
              "      <td>9</td>\n",
              "      <td>8</td>\n",
              "      <td>8</td>\n",
              "      <td>11</td>\n",
              "      <td>10</td>\n",
              "      <td>10</td>\n",
              "      <td>10</td>\n",
              "      <td>9</td>\n",
              "      <td>9</td>\n",
              "      <td>24</td>\n",
              "      <td>...</td>\n",
              "      <td>11</td>\n",
              "      <td>9</td>\n",
              "      <td>10</td>\n",
              "      <td>8</td>\n",
              "      <td>7</td>\n",
              "      <td>7</td>\n",
              "      <td>5</td>\n",
              "      <td>5</td>\n",
              "      <td>5</td>\n",
              "      <td>0</td>\n",
              "    </tr>\n",
              "    <tr>\n",
              "      <th>4</th>\n",
              "      <td>26</td>\n",
              "      <td>13</td>\n",
              "      <td>19</td>\n",
              "      <td>25</td>\n",
              "      <td>10</td>\n",
              "      <td>17</td>\n",
              "      <td>24</td>\n",
              "      <td>6</td>\n",
              "      <td>5</td>\n",
              "      <td>23</td>\n",
              "      <td>...</td>\n",
              "      <td>22</td>\n",
              "      <td>6</td>\n",
              "      <td>9</td>\n",
              "      <td>27</td>\n",
              "      <td>9</td>\n",
              "      <td>10</td>\n",
              "      <td>23</td>\n",
              "      <td>5</td>\n",
              "      <td>6</td>\n",
              "      <td>0</td>\n",
              "    </tr>\n",
              "  </tbody>\n",
              "</table>\n",
              "<p>5 rows × 2353 columns</p>\n",
              "</div>\n",
              "      <button class=\"colab-df-convert\" onclick=\"convertToInteractive('df-51d7da47-61fe-4ecf-a659-592e3a4978c1')\"\n",
              "              title=\"Convert this dataframe to an interactive table.\"\n",
              "              style=\"display:none;\">\n",
              "        \n",
              "  <svg xmlns=\"http://www.w3.org/2000/svg\" height=\"24px\"viewBox=\"0 0 24 24\"\n",
              "       width=\"24px\">\n",
              "    <path d=\"M0 0h24v24H0V0z\" fill=\"none\"/>\n",
              "    <path d=\"M18.56 5.44l.94 2.06.94-2.06 2.06-.94-2.06-.94-.94-2.06-.94 2.06-2.06.94zm-11 1L8.5 8.5l.94-2.06 2.06-.94-2.06-.94L8.5 2.5l-.94 2.06-2.06.94zm10 10l.94 2.06.94-2.06 2.06-.94-2.06-.94-.94-2.06-.94 2.06-2.06.94z\"/><path d=\"M17.41 7.96l-1.37-1.37c-.4-.4-.92-.59-1.43-.59-.52 0-1.04.2-1.43.59L10.3 9.45l-7.72 7.72c-.78.78-.78 2.05 0 2.83L4 21.41c.39.39.9.59 1.41.59.51 0 1.02-.2 1.41-.59l7.78-7.78 2.81-2.81c.8-.78.8-2.07 0-2.86zM5.41 20L4 18.59l7.72-7.72 1.47 1.35L5.41 20z\"/>\n",
              "  </svg>\n",
              "      </button>\n",
              "      \n",
              "  <style>\n",
              "    .colab-df-container {\n",
              "      display:flex;\n",
              "      flex-wrap:wrap;\n",
              "      gap: 12px;\n",
              "    }\n",
              "\n",
              "    .colab-df-convert {\n",
              "      background-color: #E8F0FE;\n",
              "      border: none;\n",
              "      border-radius: 50%;\n",
              "      cursor: pointer;\n",
              "      display: none;\n",
              "      fill: #1967D2;\n",
              "      height: 32px;\n",
              "      padding: 0 0 0 0;\n",
              "      width: 32px;\n",
              "    }\n",
              "\n",
              "    .colab-df-convert:hover {\n",
              "      background-color: #E2EBFA;\n",
              "      box-shadow: 0px 1px 2px rgba(60, 64, 67, 0.3), 0px 1px 3px 1px rgba(60, 64, 67, 0.15);\n",
              "      fill: #174EA6;\n",
              "    }\n",
              "\n",
              "    [theme=dark] .colab-df-convert {\n",
              "      background-color: #3B4455;\n",
              "      fill: #D2E3FC;\n",
              "    }\n",
              "\n",
              "    [theme=dark] .colab-df-convert:hover {\n",
              "      background-color: #434B5C;\n",
              "      box-shadow: 0px 1px 3px 1px rgba(0, 0, 0, 0.15);\n",
              "      filter: drop-shadow(0px 1px 2px rgba(0, 0, 0, 0.3));\n",
              "      fill: #FFFFFF;\n",
              "    }\n",
              "  </style>\n",
              "\n",
              "      <script>\n",
              "        const buttonEl =\n",
              "          document.querySelector('#df-51d7da47-61fe-4ecf-a659-592e3a4978c1 button.colab-df-convert');\n",
              "        buttonEl.style.display =\n",
              "          google.colab.kernel.accessAllowed ? 'block' : 'none';\n",
              "\n",
              "        async function convertToInteractive(key) {\n",
              "          const element = document.querySelector('#df-51d7da47-61fe-4ecf-a659-592e3a4978c1');\n",
              "          const dataTable =\n",
              "            await google.colab.kernel.invokeFunction('convertToInteractive',\n",
              "                                                     [key], {});\n",
              "          if (!dataTable) return;\n",
              "\n",
              "          const docLinkHtml = 'Like what you see? Visit the ' +\n",
              "            '<a target=\"_blank\" href=https://colab.research.google.com/notebooks/data_table.ipynb>data table notebook</a>'\n",
              "            + ' to learn more about interactive tables.';\n",
              "          element.innerHTML = '';\n",
              "          dataTable['output_type'] = 'display_data';\n",
              "          await google.colab.output.renderOutput(dataTable, element);\n",
              "          const docLink = document.createElement('div');\n",
              "          docLink.innerHTML = docLinkHtml;\n",
              "          element.appendChild(docLink);\n",
              "        }\n",
              "      </script>\n",
              "    </div>\n",
              "  </div>\n",
              "  "
            ]
          },
          "metadata": {},
          "execution_count": 7
        }
      ]
    },
    {
      "cell_type": "code",
      "source": [
        "load_img.shape"
      ],
      "metadata": {
        "id": "xdAYzOHjqhGn",
        "colab": {
          "base_uri": "https://localhost:8080/"
        },
        "outputId": "dee9f071-0a30-45af-e803-b259b598603f"
      },
      "execution_count": 8,
      "outputs": [
        {
          "output_type": "execute_result",
          "data": {
            "text/plain": [
              "(8008, 2353)"
            ]
          },
          "metadata": {},
          "execution_count": 8
        }
      ]
    },
    {
      "cell_type": "code",
      "source": [
        "load_img.iloc[: , :-1].values\n"
      ],
      "metadata": {
        "id": "W1IPhq26qiT_",
        "colab": {
          "base_uri": "https://localhost:8080/"
        },
        "outputId": "8771da7b-556c-4579-857d-adb09bf546cc"
      },
      "execution_count": 9,
      "outputs": [
        {
          "output_type": "execute_result",
          "data": {
            "text/plain": [
              "array([[ 30,  15,  20, ...,   9,   1,   0],\n",
              "       [  1,   0,   0, ...,   0,   1,   1],\n",
              "       [129,  91,  92, ...,   2,   2,   1],\n",
              "       ...,\n",
              "       [127, 101, 108, ..., 121, 108, 125],\n",
              "       [157,  82,  86, ..., 210, 126, 130],\n",
              "       [176, 149, 166, ..., 175, 142, 159]])"
            ]
          },
          "metadata": {},
          "execution_count": 9
        }
      ]
    },
    {
      "cell_type": "code",
      "source": [
        "X_img , y_label = load_img.iloc[: , :-1].values , load_img.iloc[: , -1].values\n"
      ],
      "metadata": {
        "id": "wQgBNSTyqjz1"
      },
      "execution_count": 10,
      "outputs": []
    },
    {
      "cell_type": "code",
      "source": [
        "#將串列轉成矩陣\n",
        "X_img_train = np.asarray(X_img.tolist())\n",
        "\n",
        "#將一維的數據，轉換成三維(長*寬*RGB三色)\n",
        "X_img_train=X_img_train.reshape(X_img_train.shape[0],28,28,3)"
      ],
      "metadata": {
        "id": "YEsQ2fqTqmMI"
      },
      "execution_count": 11,
      "outputs": []
    },
    {
      "cell_type": "code",
      "source": [
        "#檢查學習資料的照片數量、尺寸大小、維度\n",
        "print(\"train data:\",'images:',X_img_train.shape,\" labels:\",y_label.shape) "
      ],
      "metadata": {
        "id": "MlPZyKX3qnfS",
        "colab": {
          "base_uri": "https://localhost:8080/"
        },
        "outputId": "cc0a95c9-2397-4b14-bb4f-45e85f7afd09"
      },
      "execution_count": 12,
      "outputs": [
        {
          "output_type": "stream",
          "name": "stdout",
          "text": [
            "train data: images: (8008, 28, 28, 3)  labels: (8008,)\n"
          ]
        }
      ]
    },
    {
      "cell_type": "code",
      "source": [
        "#標準化: 同除255(因為image的數字是0~255)\n",
        "#X_img_train_normalize = X_img_train.astype('float32') / 255.0"
      ],
      "metadata": {
        "id": "lpSANjThq3XS"
      },
      "execution_count": 13,
      "outputs": []
    },
    {
      "cell_type": "code",
      "source": [
        "#使用np_utils.to_categorical()傳入各參數的label標籤欄位，再執行OneHot encoding (轉成0或1的組合)\n",
        "#y_label_train_OneHot = np_utils.to_categorical(y_label)"
      ],
      "metadata": {
        "id": "MLwNiZzzq406"
      },
      "execution_count": 14,
      "outputs": []
    },
    {
      "cell_type": "code",
      "source": [
        "#檢查標籤總共有多少種分類\n",
        "#這裡是共8008筆資料，每筆是7個0或1的組合\n",
        "#y_label_train_OneHot.shape"
      ],
      "metadata": {
        "id": "pWhbbLkAq6cy"
      },
      "execution_count": 15,
      "outputs": []
    },
    {
      "cell_type": "markdown",
      "source": [
        "建立與訓練CNN模型\n"
      ],
      "metadata": {
        "id": "obtNvBkwtU8A"
      }
    },
    {
      "cell_type": "code",
      "source": [
        "#匯入keras中的Sequential、layers模組(Dense、 Dropout、 Activation、 Flatten、Conv2D、 MaxPooling2D、 ZeroPadding2D)\n",
        "from keras.models import Sequential\n",
        "from keras.layers import Dense, Dropout, Activation, Flatten\n",
        "from keras.layers import Conv2D, MaxPooling2D, ZeroPadding2D"
      ],
      "metadata": {
        "id": "4_5eVyKHq7FT"
      },
      "execution_count": 16,
      "outputs": []
    },
    {
      "cell_type": "code",
      "source": [
        "# Design your CNN model\\\n",
        "\n",
        "#建立keras的Sequential模型\n",
        "model_cnn = Sequential()"
      ],
      "metadata": {
        "id": "2F_eaC4hq-bg"
      },
      "execution_count": 17,
      "outputs": []
    },
    {
      "cell_type": "code",
      "source": [
        "model_cnn.add(Conv2D(filters=32,kernel_size=(3,3),input_shape=(28,28,3),\n",
        "                     activation='relu',padding='same'))\n",
        "\n",
        "model_cnn.add(Conv2D(filters=32,kernel_size=(3,3),\n",
        "                     activation='relu',padding='same'))\n",
        "model_cnn.add(Conv2D(filters=32,kernel_size=(3,3),\n",
        "                     activation='relu',padding='same'))\n",
        "\n",
        "model_cnn.add(MaxPooling2D(pool_size=(2,2)))\n",
        "\n",
        "\n",
        "\n",
        "model_cnn.add(Conv2D(filters=64,kernel_size=(3,3),\n",
        "                     activation='relu',padding='same'))\n",
        "model_cnn.add(Conv2D(filters=64,kernel_size=(3,3),\n",
        "                     activation='relu',padding='same'))\n",
        "model_cnn.add(MaxPooling2D(pool_size=(2,2)))\n",
        "\n",
        "\n",
        "model_cnn.add(Conv2D(filters=128,kernel_size=(3,3),\n",
        "                     activation='relu',padding='same'))\n",
        "model_cnn.add(Conv2D(filters=128,kernel_size=(3,3),\n",
        "                     activation='relu',padding='same'))\n",
        "model_cnn.add(MaxPooling2D(pool_size=(2,2)))\n",
        "\n",
        "\n",
        "model_cnn.add(Conv2D(filters=256,kernel_size=(3,3),\n",
        "                     activation='relu',padding='same'))\n",
        "model_cnn.add(Conv2D(filters=256,kernel_size=(3,3),\n",
        "                     activation='relu',padding='same'))\n",
        "model_cnn.add(MaxPooling2D(pool_size=(2,2)))\n",
        "\n",
        "\n",
        "\n",
        "model_cnn.add(Flatten())\n",
        "model_cnn.add(Dense(64,activation='relu'))\n",
        "model_cnn.add(Dropout(0.3))\n",
        "model_cnn.add(Dense(7,activation='softmax'))"
      ],
      "metadata": {
        "id": "QV0tfRpwrAbz"
      },
      "execution_count": 18,
      "outputs": []
    },
    {
      "cell_type": "code",
      "source": [
        "print(model_cnn.summary())\n"
      ],
      "metadata": {
        "id": "2C7647IvrBwb",
        "colab": {
          "base_uri": "https://localhost:8080/"
        },
        "outputId": "ae3fbbac-3758-4403-a923-a0a5e191b0cc"
      },
      "execution_count": 19,
      "outputs": [
        {
          "output_type": "stream",
          "name": "stdout",
          "text": [
            "Model: \"sequential\"\n",
            "_________________________________________________________________\n",
            " Layer (type)                Output Shape              Param #   \n",
            "=================================================================\n",
            " conv2d (Conv2D)             (None, 28, 28, 32)        896       \n",
            "                                                                 \n",
            " conv2d_1 (Conv2D)           (None, 28, 28, 32)        9248      \n",
            "                                                                 \n",
            " conv2d_2 (Conv2D)           (None, 28, 28, 32)        9248      \n",
            "                                                                 \n",
            " max_pooling2d (MaxPooling2D  (None, 14, 14, 32)       0         \n",
            " )                                                               \n",
            "                                                                 \n",
            " conv2d_3 (Conv2D)           (None, 14, 14, 64)        18496     \n",
            "                                                                 \n",
            " conv2d_4 (Conv2D)           (None, 14, 14, 64)        36928     \n",
            "                                                                 \n",
            " max_pooling2d_1 (MaxPooling  (None, 7, 7, 64)         0         \n",
            " 2D)                                                             \n",
            "                                                                 \n",
            " conv2d_5 (Conv2D)           (None, 7, 7, 128)         73856     \n",
            "                                                                 \n",
            " conv2d_6 (Conv2D)           (None, 7, 7, 128)         147584    \n",
            "                                                                 \n",
            " max_pooling2d_2 (MaxPooling  (None, 3, 3, 128)        0         \n",
            " 2D)                                                             \n",
            "                                                                 \n",
            " conv2d_7 (Conv2D)           (None, 3, 3, 256)         295168    \n",
            "                                                                 \n",
            " conv2d_8 (Conv2D)           (None, 3, 3, 256)         590080    \n",
            "                                                                 \n",
            " max_pooling2d_3 (MaxPooling  (None, 1, 1, 256)        0         \n",
            " 2D)                                                             \n",
            "                                                                 \n",
            " flatten (Flatten)           (None, 256)               0         \n",
            "                                                                 \n",
            " dense (Dense)               (None, 64)                16448     \n",
            "                                                                 \n",
            " dropout (Dropout)           (None, 64)                0         \n",
            "                                                                 \n",
            " dense_1 (Dense)             (None, 7)                 455       \n",
            "                                                                 \n",
            "=================================================================\n",
            "Total params: 1,198,407\n",
            "Trainable params: 1,198,407\n",
            "Non-trainable params: 0\n",
            "_________________________________________________________________\n",
            "None\n"
          ]
        }
      ]
    },
    {
      "cell_type": "code",
      "source": [
        "from keras.callbacks import EarlyStopping, ReduceLROnPlateau\n",
        "early_stopping = EarlyStopping(monitor='val_loss',patience=20, verbose=1)\n",
        "reduce_lr = ReduceLROnPlateau(monitor='val_loss',factor=0.1,patience=10, verbose=1, min_lr=1e-6)"
      ],
      "metadata": {
        "id": "b4zlqMc-rD4l"
      },
      "execution_count": 20,
      "outputs": []
    },
    {
      "cell_type": "code",
      "source": [
        "model_cnn.compile(loss='categorical_crossentropy',optimizer='adam',metrics=['accuracy'])\n"
      ],
      "metadata": {
        "id": "H5uW1AVlrFXh"
      },
      "execution_count": 21,
      "outputs": []
    },
    {
      "cell_type": "code",
      "source": [
        "epochs=150\n",
        "batch_size=128\n",
        "\n",
        "x_train, x_validate, y_train, y_validate = train_test_split(X_img_train_normalize, y_label_train_OneHot, test_size=0.2, shuffle=True)\n",
        "\n",
        "#train_history=model_cnn.fit(x_train, y_train, batch_size=batch_size, validation_data=(x_validate,y_validate), epochs=epochs, verbose=1, callbacks=None)#callbacks=[early_stopping,reduce_lr]\n"
      ],
      "metadata": {
        "id": "fOqPJ8v9rJe8",
        "colab": {
          "base_uri": "https://localhost:8080/",
          "height": 271
        },
        "outputId": "33014e48-c558-4570-a5ee-63a236e97d99"
      },
      "execution_count": 24,
      "outputs": [
        {
          "output_type": "error",
          "ename": "NameError",
          "evalue": "ignored",
          "traceback": [
            "\u001b[0;31m---------------------------------------------------------------------------\u001b[0m",
            "\u001b[0;31mNameError\u001b[0m                                 Traceback (most recent call last)",
            "\u001b[0;32m<ipython-input-24-36d33f397947>\u001b[0m in \u001b[0;36m<cell line: 4>\u001b[0;34m()\u001b[0m\n\u001b[1;32m      2\u001b[0m \u001b[0mbatch_size\u001b[0m\u001b[0;34m=\u001b[0m\u001b[0;36m128\u001b[0m\u001b[0;34m\u001b[0m\u001b[0;34m\u001b[0m\u001b[0m\n\u001b[1;32m      3\u001b[0m \u001b[0;34m\u001b[0m\u001b[0m\n\u001b[0;32m----> 4\u001b[0;31m \u001b[0mx_train\u001b[0m\u001b[0;34m,\u001b[0m \u001b[0mx_validate\u001b[0m\u001b[0;34m,\u001b[0m \u001b[0my_train\u001b[0m\u001b[0;34m,\u001b[0m \u001b[0my_validate\u001b[0m \u001b[0;34m=\u001b[0m \u001b[0mtrain_test_split\u001b[0m\u001b[0;34m(\u001b[0m\u001b[0mX_img_train_normalize\u001b[0m\u001b[0;34m,\u001b[0m \u001b[0my_label_train_OneHot\u001b[0m\u001b[0;34m,\u001b[0m \u001b[0mtest_size\u001b[0m\u001b[0;34m=\u001b[0m\u001b[0;36m0.2\u001b[0m\u001b[0;34m,\u001b[0m \u001b[0mshuffle\u001b[0m\u001b[0;34m=\u001b[0m\u001b[0;32mTrue\u001b[0m\u001b[0;34m)\u001b[0m\u001b[0;34m\u001b[0m\u001b[0;34m\u001b[0m\u001b[0m\n\u001b[0m\u001b[1;32m      5\u001b[0m \u001b[0;34m\u001b[0m\u001b[0m\n\u001b[1;32m      6\u001b[0m \u001b[0;31m#train_history=model_cnn.fit(x_train, y_train, batch_size=batch_size, validation_data=(x_validate,y_validate), epochs=epochs, verbose=1, callbacks=None)#callbacks=[early_stopping,reduce_lr]\u001b[0m\u001b[0;34m\u001b[0m\u001b[0;34m\u001b[0m\u001b[0m\n",
            "\u001b[0;31mNameError\u001b[0m: name 'X_img_train_normalize' is not defined"
          ]
        }
      ]
    },
    {
      "cell_type": "code",
      "source": [
        "import matplotlib.pyplot as plt\n",
        "def show_train_history(train_acc,test_acc, yAxisName):\n",
        "  plt.plot(train_history.history[train_acc])\n",
        "  plt.plot(train_history.history[test_acc])\n",
        "  plt.title('Train History')\n",
        "  plt.ylabel(yAxisName)\n",
        "  plt.xlabel('Epoch')\n",
        "  plt.legend(['train','val'], loc='upper left')\n",
        "  plt.show\n"
      ],
      "metadata": {
        "id": "XlxmsXs3rR81"
      },
      "execution_count": null,
      "outputs": []
    },
    {
      "cell_type": "code",
      "source": [
        "show_train_history('accuracy','val_accuracy','Accuracy')\n"
      ],
      "metadata": {
        "id": "THN7jKferVXc"
      },
      "execution_count": null,
      "outputs": []
    },
    {
      "cell_type": "code",
      "source": [
        "show_train_history('loss','val_loss','Loss')\n"
      ],
      "metadata": {
        "id": "QAq8iz6-rXE1"
      },
      "execution_count": null,
      "outputs": []
    },
    {
      "cell_type": "code",
      "source": [
        "scores = model_cnn.evaluate(x_validate, y_validate, verbose=0)\n",
        "scores[1]"
      ],
      "metadata": {
        "id": "7gXJsdE9rZ2-"
      },
      "execution_count": null,
      "outputs": []
    },
    {
      "cell_type": "code",
      "source": [
        "prediction = np.argmax(model_cnn.predict(x_validate), axis=-1)\n",
        "pd.crosstab(np.argmax(y_validate, axis=-1), prediction, rownames=['label'], colnames=['predict'])"
      ],
      "metadata": {
        "id": "_fHnV3p5rb4f"
      },
      "execution_count": null,
      "outputs": []
    },
    {
      "cell_type": "code",
      "source": [
        "# 使用最後的模型進行測試資料預測\n",
        "load_test_img = pd.read_csv('project3_test.csv')\n",
        "img_test = load_test_img.values"
      ],
      "metadata": {
        "id": "wfBfU7xergiQ"
      },
      "execution_count": null,
      "outputs": []
    },
    {
      "cell_type": "code",
      "source": [
        "x_test=img_test.reshape(img_test.shape[0],28,28,3)\n",
        "x_test_normalize = x_test.astype('float32') / 255.0"
      ],
      "metadata": {
        "id": "AMYPiOFcriGj"
      },
      "execution_count": null,
      "outputs": []
    },
    {
      "cell_type": "code",
      "source": [
        "df_submit = pd.DataFrame([], columns=['Id', 'Label'])\n",
        "df_submit['Id'] = [f'{i:04d}' for i in range(len(x_test_normalize))]\n",
        "df_submit['Label'] = np.argmax(model_cnn.predict(x_test_normalize), axis=-1)"
      ],
      "metadata": {
        "id": "V5NETxadriMe"
      },
      "execution_count": null,
      "outputs": []
    },
    {
      "cell_type": "code",
      "source": [
        "df_submit.to_csv('submission_CNN7.csv', index=None)\n"
      ],
      "metadata": {
        "id": "UIqisBzcribH"
      },
      "execution_count": null,
      "outputs": []
    },
    {
      "cell_type": "code",
      "source": [
        "x_img_train, x_img_test, y_label_train, y_label_test = train_test_split(X_img_train_normalize, y_label_train_OneHot, test_size=0.2, random_state=2)\n"
      ],
      "metadata": {
        "id": "ZmOWoZZ9rodY"
      },
      "execution_count": null,
      "outputs": []
    },
    {
      "cell_type": "code",
      "source": [
        "x_img_train_normalize = x_img_train.astype('float32') / 255.0\n",
        "x_img_test_normalize = x_img_test.astype('float32') / 255.0"
      ],
      "metadata": {
        "id": "EnhpU2rarp-X"
      },
      "execution_count": null,
      "outputs": []
    }
  ]
}