{
  "nbformat": 4,
  "nbformat_minor": 0,
  "metadata": {
    "colab": {
      "provenance": [],
      "authorship_tag": "ABX9TyOXeG97Vuvou8BtHRcbLsWH",
      "include_colab_link": true
    },
    "kernelspec": {
      "name": "python3",
      "display_name": "Python 3"
    },
    "language_info": {
      "name": "python"
    }
  },
  "cells": [
    {
      "cell_type": "markdown",
      "metadata": {
        "id": "view-in-github",
        "colab_type": "text"
      },
      "source": [
        "<a href=\"https://colab.research.google.com/github/MattWang-Portfolio/MattWang-Portfolio-data-processing-algorithm-Skin_Cancer/blob/main/skincancer.ipynb\" target=\"_parent\"><img src=\"https://colab.research.google.com/assets/colab-badge.svg\" alt=\"Open In Colab\"/></a>"
      ]
    },
    {
      "cell_type": "markdown",
      "source": [
        "Skin Cancer MNIST: HAM10000 https://www.kaggle.com/kmader/skin-cancer-mnist-ham10000\n",
        "\n"
      ],
      "metadata": {
        "id": "-_bsc6rFtcLn"
      }
    },
    {
      "cell_type": "code",
      "execution_count": null,
      "metadata": {
        "id": "ui5dskdQpxQQ"
      },
      "outputs": [],
      "source": [
        "#keras.utils: 做one-hot encoding用\n",
        "#sklearn.model_selection: 分割訓練集和測試集\n",
        "#os: 用來建立檔案、刪除檔案\n",
        "#PIL: (圖像處理庫)匯入圖像\n",
        "#seed: 設定種子，使每次隨機產生的資料有相同結果。可將數字改成自己的學號(或其他數字)\n",
        "import numpy as np\n",
        "import pandas as pd\n",
        "from keras.utils import np_utils\n",
        "from sklearn.model_selection import train_test_split\n",
        "import os\n",
        "from PIL import Image\n",
        "np.random.seed(409570391)"
      ]
    },
    {
      "cell_type": "code",
      "source": [
        "#7項皮膚疾病簡稱與全名\n",
        "lesion_type_dict = {\n",
        "    'nv': 'Melanocytic nevi',\n",
        "    'mel': 'Melanoma',\n",
        "    'bkl': 'Benign keratosis-like lesions ',\n",
        "    'bcc': 'Basal cell carcinoma',\n",
        "    'akiec': 'Actinic keratoses',\n",
        "    'vasc': 'Vascular lesions',\n",
        "    'df': 'Dermatofibroma'\n",
        "}\n"
      ],
      "metadata": {
        "id": "XqPnjAxIqV0h"
      },
      "execution_count": null,
      "outputs": []
    },
    {
      "cell_type": "code",
      "source": [
        "pd.Categorical(lesion_type_dict).codes\n"
      ],
      "metadata": {
        "id": "Go1YPh1eqYyi"
      },
      "execution_count": null,
      "outputs": []
    },
    {
      "cell_type": "code",
      "source": [
        "# Download from Google Drive\n",
        "!gdown --id 1orCwIp_avT4Yg9lCT8pjImwzqBg4_xiI\n",
        "!unzip project03.zip"
      ],
      "metadata": {
        "id": "chht0GOvqbC9"
      },
      "execution_count": null,
      "outputs": []
    },
    {
      "cell_type": "code",
      "source": [
        "#讀取影像資料，28*28*3個像素值欄位(pixel0000-pixel2351) + 1個分類類別欄位label\n",
        "load_img = pd.read_csv('project3_train.csv')"
      ],
      "metadata": {
        "id": "gBRGH8dlqczj"
      },
      "execution_count": null,
      "outputs": []
    },
    {
      "cell_type": "code",
      "source": [
        "load_img.head()"
      ],
      "metadata": {
        "id": "a8BudjcOqecR"
      },
      "execution_count": null,
      "outputs": []
    },
    {
      "cell_type": "code",
      "source": [
        "load_img.shape"
      ],
      "metadata": {
        "id": "xdAYzOHjqhGn"
      },
      "execution_count": null,
      "outputs": []
    },
    {
      "cell_type": "code",
      "source": [
        "load_img.iloc[: , :-1].values\n"
      ],
      "metadata": {
        "id": "W1IPhq26qiT_"
      },
      "execution_count": null,
      "outputs": []
    },
    {
      "cell_type": "code",
      "source": [
        "X_img , y_label = load_img.iloc[: , :-1].values , load_img.iloc[: , -1].values\n"
      ],
      "metadata": {
        "id": "wQgBNSTyqjz1"
      },
      "execution_count": null,
      "outputs": []
    },
    {
      "cell_type": "code",
      "source": [
        "#將串列轉成矩陣\n",
        "X_img_train = np.asarray(X_img.tolist())\n",
        "\n",
        "#將一維的數據，轉換成三維(長*寬*RGB三色)\n",
        "X_img_train=X_img_train.reshape(X_img_train.shape[0],28,28,3)"
      ],
      "metadata": {
        "id": "YEsQ2fqTqmMI"
      },
      "execution_count": null,
      "outputs": []
    },
    {
      "cell_type": "code",
      "source": [
        "#檢查學習資料的照片數量、尺寸大小、維度\n",
        "print(\"train data:\",'images:',X_img_train.shape,\" labels:\",y_label.shape) "
      ],
      "metadata": {
        "id": "MlPZyKX3qnfS"
      },
      "execution_count": null,
      "outputs": []
    },
    {
      "cell_type": "code",
      "source": [
        "#標準化: 同除255(因為image的數字是0~255)\n",
        "#X_img_train_normalize = X_img_train.astype('float32') / 255.0"
      ],
      "metadata": {
        "id": "lpSANjThq3XS"
      },
      "execution_count": null,
      "outputs": []
    },
    {
      "cell_type": "code",
      "source": [
        "#使用np_utils.to_categorical()傳入各參數的label標籤欄位，再執行OneHot encoding (轉成0或1的組合)\n",
        "#y_label_train_OneHot = np_utils.to_categorical(y_label)"
      ],
      "metadata": {
        "id": "MLwNiZzzq406"
      },
      "execution_count": null,
      "outputs": []
    },
    {
      "cell_type": "code",
      "source": [
        "#檢查標籤總共有多少種分類\n",
        "#這裡是共8008筆資料，每筆是7個0或1的組合\n",
        "#y_label_train_OneHot.shape"
      ],
      "metadata": {
        "id": "pWhbbLkAq6cy"
      },
      "execution_count": 1,
      "outputs": []
    },
    {
      "cell_type": "markdown",
      "source": [
        "建立與訓練CNN模型\n"
      ],
      "metadata": {
        "id": "obtNvBkwtU8A"
      }
    },
    {
      "cell_type": "code",
      "source": [
        "#匯入keras中的Sequential、layers模組(Dense、 Dropout、 Activation、 Flatten、Conv2D、 MaxPooling2D、 ZeroPadding2D)\n",
        "from keras.models import Sequential\n",
        "from keras.layers import Dense, Dropout, Activation, Flatten\n",
        "from keras.layers import Conv2D, MaxPooling2D, ZeroPadding2D"
      ],
      "metadata": {
        "id": "4_5eVyKHq7FT"
      },
      "execution_count": null,
      "outputs": []
    },
    {
      "cell_type": "code",
      "source": [
        "# Design your CNN model\\\n",
        "\n",
        "#建立keras的Sequential模型\n",
        "model_cnn = Sequential()"
      ],
      "metadata": {
        "id": "2F_eaC4hq-bg"
      },
      "execution_count": null,
      "outputs": []
    },
    {
      "cell_type": "code",
      "source": [
        "model_cnn.add(Conv2D(filters=32,kernel_size=(3,3),input_shape=(28,28,3),\n",
        "                     activation='relu',padding='same'))\n",
        "\n",
        "model_cnn.add(Conv2D(filters=32,kernel_size=(3,3),\n",
        "                     activation='relu',padding='same'))\n",
        "model_cnn.add(Conv2D(filters=32,kernel_size=(3,3),\n",
        "                     activation='relu',padding='same'))\n",
        "\n",
        "model_cnn.add(MaxPooling2D(pool_size=(2,2)))\n",
        "\n",
        "\n",
        "\n",
        "model_cnn.add(Conv2D(filters=64,kernel_size=(3,3),\n",
        "                     activation='relu',padding='same'))\n",
        "model_cnn.add(Conv2D(filters=64,kernel_size=(3,3),\n",
        "                     activation='relu',padding='same'))\n",
        "model_cnn.add(MaxPooling2D(pool_size=(2,2)))\n",
        "\n",
        "\n",
        "model_cnn.add(Conv2D(filters=128,kernel_size=(3,3),\n",
        "                     activation='relu',padding='same'))\n",
        "model_cnn.add(Conv2D(filters=128,kernel_size=(3,3),\n",
        "                     activation='relu',padding='same'))\n",
        "model_cnn.add(MaxPooling2D(pool_size=(2,2)))\n",
        "\n",
        "\n",
        "model_cnn.add(Conv2D(filters=256,kernel_size=(3,3),\n",
        "                     activation='relu',padding='same'))\n",
        "model_cnn.add(Conv2D(filters=256,kernel_size=(3,3),\n",
        "                     activation='relu',padding='same'))\n",
        "model_cnn.add(MaxPooling2D(pool_size=(2,2)))\n",
        "\n",
        "\n",
        "\n",
        "model_cnn.add(Flatten())\n",
        "model_cnn.add(Dense(64,activation='relu'))\n",
        "model_cnn.add(Dropout(0.3))\n",
        "model_cnn.add(Dense(7,activation='softmax'))"
      ],
      "metadata": {
        "id": "QV0tfRpwrAbz"
      },
      "execution_count": null,
      "outputs": []
    },
    {
      "cell_type": "code",
      "source": [
        "print(model_cnn.summary())\n"
      ],
      "metadata": {
        "id": "2C7647IvrBwb"
      },
      "execution_count": null,
      "outputs": []
    },
    {
      "cell_type": "code",
      "source": [
        "from keras.callbacks import EarlyStopping, ReduceLROnPlateau\n",
        "early_stopping = EarlyStopping(monitor='val_loss',patience=20, verbose=1)\n",
        "reduce_lr = ReduceLROnPlateau(monitor='val_loss',factor=0.1,patience=10, verbose=1, min_lr=1e-6)"
      ],
      "metadata": {
        "id": "b4zlqMc-rD4l"
      },
      "execution_count": null,
      "outputs": []
    },
    {
      "cell_type": "code",
      "source": [
        "model_cnn.compile(loss='categorical_crossentropy',optimizer='adam',metrics=['accuracy'])\n"
      ],
      "metadata": {
        "id": "H5uW1AVlrFXh"
      },
      "execution_count": null,
      "outputs": []
    },
    {
      "cell_type": "code",
      "source": [
        "epochs=150\n",
        "batch_size=128\n",
        "\n",
        "x_train, x_validate, y_train, y_validate = train_test_split(X_img_train_normalize, y_label_train_OneHot, test_size=0.2, shuffle=True)\n",
        "\n",
        "#train_history=model_cnn.fit(x_train, y_train, batch_size=batch_size, validation_data=(x_validate,y_validate), epochs=epochs, verbose=1, callbacks=None)#callbacks=[early_stopping,reduce_lr]\n"
      ],
      "metadata": {
        "id": "fOqPJ8v9rJe8"
      },
      "execution_count": null,
      "outputs": []
    },
    {
      "cell_type": "code",
      "source": [
        "import matplotlib.pyplot as plt\n",
        "def show_train_history(train_acc,test_acc, yAxisName):\n",
        "  plt.plot(train_history.history[train_acc])\n",
        "  plt.plot(train_history.history[test_acc])\n",
        "  plt.title('Train History')\n",
        "  plt.ylabel(yAxisName)\n",
        "  plt.xlabel('Epoch')\n",
        "  plt.legend(['train','val'], loc='upper left')\n",
        "  plt.show\n"
      ],
      "metadata": {
        "id": "XlxmsXs3rR81"
      },
      "execution_count": null,
      "outputs": []
    },
    {
      "cell_type": "code",
      "source": [
        "show_train_history('accuracy','val_accuracy','Accuracy')\n"
      ],
      "metadata": {
        "id": "THN7jKferVXc"
      },
      "execution_count": null,
      "outputs": []
    },
    {
      "cell_type": "code",
      "source": [
        "show_train_history('loss','val_loss','Loss')\n"
      ],
      "metadata": {
        "id": "QAq8iz6-rXE1"
      },
      "execution_count": null,
      "outputs": []
    },
    {
      "cell_type": "code",
      "source": [
        "scores = model_cnn.evaluate(x_validate, y_validate, verbose=0)\n",
        "scores[1]"
      ],
      "metadata": {
        "id": "7gXJsdE9rZ2-"
      },
      "execution_count": null,
      "outputs": []
    },
    {
      "cell_type": "code",
      "source": [
        "prediction = np.argmax(model_cnn.predict(x_validate), axis=-1)\n",
        "pd.crosstab(np.argmax(y_validate, axis=-1), prediction, rownames=['label'], colnames=['predict'])"
      ],
      "metadata": {
        "id": "_fHnV3p5rb4f"
      },
      "execution_count": null,
      "outputs": []
    },
    {
      "cell_type": "code",
      "source": [
        "# 使用最後的模型進行測試資料預測\n",
        "load_test_img = pd.read_csv('project3_test.csv')\n",
        "img_test = load_test_img.values"
      ],
      "metadata": {
        "id": "wfBfU7xergiQ"
      },
      "execution_count": null,
      "outputs": []
    },
    {
      "cell_type": "code",
      "source": [
        "x_test=img_test.reshape(img_test.shape[0],28,28,3)\n",
        "x_test_normalize = x_test.astype('float32') / 255.0"
      ],
      "metadata": {
        "id": "AMYPiOFcriGj"
      },
      "execution_count": null,
      "outputs": []
    },
    {
      "cell_type": "code",
      "source": [
        "df_submit = pd.DataFrame([], columns=['Id', 'Label'])\n",
        "df_submit['Id'] = [f'{i:04d}' for i in range(len(x_test_normalize))]\n",
        "df_submit['Label'] = np.argmax(model_cnn.predict(x_test_normalize), axis=-1)"
      ],
      "metadata": {
        "id": "V5NETxadriMe"
      },
      "execution_count": null,
      "outputs": []
    },
    {
      "cell_type": "code",
      "source": [
        "df_submit.to_csv('submission_CNN7.csv', index=None)\n"
      ],
      "metadata": {
        "id": "UIqisBzcribH"
      },
      "execution_count": null,
      "outputs": []
    },
    {
      "cell_type": "code",
      "source": [
        "x_img_train, x_img_test, y_label_train, y_label_test = train_test_split(X_img_train_normalize, y_label_train_OneHot, test_size=0.2, random_state=2)\n"
      ],
      "metadata": {
        "id": "ZmOWoZZ9rodY"
      },
      "execution_count": null,
      "outputs": []
    },
    {
      "cell_type": "code",
      "source": [
        "x_img_train_normalize = x_img_train.astype('float32') / 255.0\n",
        "x_img_test_normalize = x_img_test.astype('float32') / 255.0"
      ],
      "metadata": {
        "id": "EnhpU2rarp-X"
      },
      "execution_count": null,
      "outputs": []
    }
  ]
}